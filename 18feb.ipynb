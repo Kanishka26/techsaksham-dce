{
 "cells": [
  {
   "cell_type": "code",
   "execution_count": 10,
   "id": "e2af7a8b-1c04-4616-8afa-dad2d717890e",
   "metadata": {},
   "outputs": [],
   "source": [
    "file = open(\"studentrecord.txt\",\"a\")\n",
    "#write overwrites the file\n",
    "#append adds to the end of file\n",
    "file.write(\"Welcome\")\n",
    "file.close()"
   ]
  },
  {
   "cell_type": "code",
   "execution_count": 15,
   "id": "ac708cb8-8eb5-43e8-b38b-9fd6dd06cbac",
   "metadata": {},
   "outputs": [],
   "source": [
    "with open(\"studentrecord.txt\",\"a\") as file:\n",
    "    file.write(\"\\n Write through with\")\n",
    "#with with we dont need to worry about closing the file\n",
    "    "
   ]
  },
  {
   "cell_type": "code",
   "execution_count": 19,
   "id": "1d472b65-d477-49f6-ad13-b182dccd5b5e",
   "metadata": {},
   "outputs": [
    {
     "name": "stdout",
     "output_type": "stream",
     "text": [
      "name = ram\n",
      "name = ram\n"
     ]
    }
   ],
   "source": [
    "name =\"ram\" \n",
    "print(\"name = {}\".format(name)) \n",
    "print(f\"name = {name}\")\n",
    "#two ways of formatting"
   ]
  },
  {
   "cell_type": "code",
   "execution_count": 23,
   "id": "75c08ea0-780c-4bd9-9a10-25dbabea2a83",
   "metadata": {},
   "outputs": [],
   "source": [
    "#write operation using sequential method\n",
    "name =\"ram\"\n",
    "branch = \"CSE\"\n",
    "roll = 2002\n",
    "mobile = 5485468859\n",
    "with open(\"studentrecord.txt\", \"w\") as file:\n",
    "    file.write(f\"{roll},{name},{branch},{mobile}\\n\")"
   ]
  },
  {
   "cell_type": "code",
   "execution_count": 27,
   "id": "e7c325f6-a57e-4e37-b2b9-840605676852",
   "metadata": {},
   "outputs": [
    {
     "name": "stdin",
     "output_type": "stream",
     "text": [
      "enter name Joy\n",
      "enter roll no 4854\n",
      "enter branch CSE\n",
      "enter mobile number 437382092\n"
     ]
    }
   ],
   "source": [
    "def addrecord(roll,name,branch, mobile):\n",
    "    with open(\"studentrecord.txt\",\"a\") as file:\n",
    "        file.write(f\"{roll},{name},{branch},{mobile}\\n\")\n",
    "name=input(\"enter name\")\n",
    "roll=input(\"enter roll no\")\n",
    "branch=input(\"enter branch\")\n",
    "mobile=input(\"enter mobile number\")\n",
    "addrecord(roll,name,branch,mobile)    "
   ]
  },
  {
   "cell_type": "code",
   "execution_count": null,
   "id": "db3e37e3-4545-4158-8295-71cacffa4712",
   "metadata": {},
   "outputs": [],
   "source": [
    "#file.read-> return entire file in string\n",
    "#file.readline()->will return one line of file in string form\n",
    "#file.readline()->will return list of lines from file"
   ]
  },
  {
   "cell_type": "code",
   "execution_count": 29,
   "id": "82720d34-0ea0-4267-9602-1cb52946d8df",
   "metadata": {},
   "outputs": [
    {
     "name": "stdout",
     "output_type": "stream",
     "text": [
      "2002,ram,CSE,5485468859\n",
      "\n",
      "4854,Joy,CSE,437382092\n",
      "\n"
     ]
    }
   ],
   "source": [
    "with open(\"studentrecord.txt\",\"r\") as file:\n",
    "    print(file.readline())\n",
    "    print(file.readline())"
   ]
  },
  {
   "cell_type": "code",
   "execution_count": 39,
   "id": "861e7192-1e84-42b6-a7e0-0feea6404257",
   "metadata": {},
   "outputs": [
    {
     "name": "stdout",
     "output_type": "stream",
     "text": [
      "roll\tName\tbranch\tmobile no.\n",
      "2002\tram\tCSE\t5485468859\n",
      "4854\tJoy\tCSE\t437382092\n"
     ]
    }
   ],
   "source": [
    "def displayallrecord():\n",
    "    with open(\"studentrecord.txt\",\"r\") as file:\n",
    "        lines=file.readlines()\n",
    "        print(\"roll\\tName\\tbranch\\tmobile no.\")\n",
    "        for line in lines:\n",
    "            line=line.split(',')\n",
    "            print(f\"{line[0]}\\t{line[1]}\\t{line[2]}\\t{line[3][:-1]}\")\n",
    "displayallrecord()"
   ]
  },
  {
   "cell_type": "code",
   "execution_count": 43,
   "id": "d3bee067-778d-4906-a5ca-d3df13ddffc2",
   "metadata": {},
   "outputs": [
    {
     "name": "stdin",
     "output_type": "stream",
     "text": [
      "enter roll number to be searched 4854\n"
     ]
    },
    {
     "name": "stdout",
     "output_type": "stream",
     "text": [
      "4854\tJoy\tCSE\t437382092\n"
     ]
    }
   ],
   "source": [
    "#to search for record\n",
    "def search():\n",
    "    with open(\"studentrecord.txt\",\"r\") as file:\n",
    "        lines=file.readlines()\n",
    "        r=input(\"enter roll number to be searched\")\n",
    "        for line in lines:\n",
    "            line=line.split(\",\")\n",
    "            if(line[0] ==r):\n",
    "                print(f\"{line[0]}\\t{line[1]}\\t{line[2]}\\t{line[3][:-1]}\")\n",
    "                break\n",
    "        else:\n",
    "                print(\"record not found\")\n",
    "search()"
   ]
  },
  {
   "cell_type": "code",
   "execution_count": 63,
   "id": "0ff6f72a-f131-4467-9a05-bdc2782b7ad7",
   "metadata": {},
   "outputs": [],
   "source": [
    "class student:\n",
    "    def __init__(self,roll,name,branch,mobile):\n",
    "        self.roll=roll\n",
    "        self.name=name\n",
    "        self.branch=branch\n",
    "        self.mobile=mobile\n",
    "        self.__addrecord()\n",
    "    def __addrecord(self):\n",
    "        with open(\"studentrecord5.txt\",\"a\") as file:\n",
    "            file.write(f\"{self.roll},{self.name},{self.branch},{self.mobile}\\n\")\n",
    "        \n",
    "        "
   ]
  },
  {
   "cell_type": "code",
   "execution_count": 65,
   "id": "04145e61-f536-4dab-8841-e27ca7f608ec",
   "metadata": {},
   "outputs": [],
   "source": [
    "s1=student(2001,\"ram\",\"CSE\",123456789)"
   ]
  },
  {
   "cell_type": "code",
   "execution_count": 67,
   "id": "3ac1e36c-6225-4932-9bcf-e4faf454ae71",
   "metadata": {},
   "outputs": [
    {
     "data": {
      "text/plain": [
       "'ram'"
      ]
     },
     "execution_count": 67,
     "metadata": {},
     "output_type": "execute_result"
    }
   ],
   "source": [
    "s1.name"
   ]
  },
  {
   "cell_type": "code",
   "execution_count": 95,
   "id": "98b93ea6-5c41-410e-a7d7-acf5a665bedb",
   "metadata": {},
   "outputs": [
    {
     "name": "stdout",
     "output_type": "stream",
     "text": [
      "student already exists\n"
     ]
    }
   ],
   "source": [
    "#to avoid duplicate data \n",
    "class student:\n",
    "    def __init__(self,roll,name,branch,mobile):\n",
    "        self.roll=roll\n",
    "        self.name=name\n",
    "        self.branch=branch\n",
    "        self.mobile=mobile\n",
    "        self.__addrecord()\n",
    "    def __addrecord(self):\n",
    "        with open(\"studentrecord5.txt\",\"r\")as file:\n",
    "            lines=file.readlines()\n",
    "            for line in lines:\n",
    "                if line.split(\",\")[0]==str(self.roll):\n",
    "                    print(\"student already exists\")\n",
    "                    break\n",
    "            else:\n",
    "                with open(\"studentrecord5.txt\",\"a\") as file:\n",
    "                    file.write(f\"{self.roll},{self.name},{self.branch},{self.mobile}\\n\")\n",
    "    def search():\n",
    "        with open(\"studentrecord5.txt\",\"r\") as file:\n",
    "            lines=file.readlines()\n",
    "            r=input(\"enter roll number to be searched\")\n",
    "            for line in lines:\n",
    "                line=line.split(\",\")\n",
    "                if(line[0] ==r):\n",
    "                    print(f\"{line[0]}\\t{line[1]}\\t{line[2]}\\t{line[3][:-1]}\")\n",
    "                    break\n",
    "            else:\n",
    "                print(\"record not found\")\n",
    "    def update(self,roll,name,branch,mobile):\n",
    "        with open(\"studentrecord5.txt\",\"r\") as file:\n",
    "            lines=file.readlines()\n",
    "            for i in range(len(lines)):\n",
    "                if lines[i].split(',')[0]==str(roll):\n",
    "                    lines[i]=f\"{roll},{name},{branch},{mobile}\\n\"\n",
    "                    break\n",
    "            with open(\"studentrecord5.txt\",\"w\")as file:\n",
    "                file.write(\"\".join(lines))\n",
    "                \n",
    "s1=student(2001,\"riya\",\"CSE\",1372839723)\n"
   ]
  },
  {
   "cell_type": "code",
   "execution_count": 97,
   "id": "bf6e6203-8e1e-4336-bdd5-205ec5b2f3a9",
   "metadata": {},
   "outputs": [
    {
     "ename": "TypeError",
     "evalue": "student.update() takes 5 positional arguments but 6 were given",
     "output_type": "error",
     "traceback": [
      "\u001b[1;31m---------------------------------------------------------------------------\u001b[0m",
      "\u001b[1;31mTypeError\u001b[0m                                 Traceback (most recent call last)",
      "Cell \u001b[1;32mIn[97], line 1\u001b[0m\n\u001b[1;32m----> 1\u001b[0m s1\u001b[38;5;241m.\u001b[39mupdate(\u001b[38;5;241m2001\u001b[39m,\u001b[38;5;124m\"\u001b[39m\u001b[38;5;124mRiya\u001b[39m\u001b[38;5;124m\"\u001b[39m,\u001b[38;5;124m\"\u001b[39m\u001b[38;5;124mCSE\u001b[39m\u001b[38;5;124m\"\u001b[39m,\u001b[38;5;124m\"\u001b[39m\u001b[38;5;124mIT\u001b[39m\u001b[38;5;124m\"\u001b[39m,\u001b[38;5;241m2398743843\u001b[39m)\n",
      "\u001b[1;31mTypeError\u001b[0m: student.update() takes 5 positional arguments but 6 were given"
     ]
    }
   ],
   "source": [
    "s1.update(2001,\"Riya\",\"CSE\",\"IT\",2398743843)\n"
   ]
  },
  {
   "cell_type": "code",
   "execution_count": null,
   "id": "284cf985-cf15-478d-8eb3-daccce69e473",
   "metadata": {},
   "outputs": [],
   "source": []
  },
  {
   "cell_type": "code",
   "execution_count": 99,
   "id": "33d9571f-9429-47c6-83c6-96adca7ab851",
   "metadata": {},
   "outputs": [],
   "source": [
    "#personal fitness tracker\n",
    "#workout class only having attributes\n",
    "#only one user can access at a time\n",
    "#for ever user different file\n",
    "#add workout, view workout,save data, load data"
   ]
  },
  {
   "cell_type": "code",
   "execution_count": null,
   "id": "1d05cb1d-07a5-4019-815a-eb5aa170f861",
   "metadata": {},
   "outputs": [],
   "source": []
  }
 ],
 "metadata": {
  "kernelspec": {
   "display_name": "Python [conda env:base] *",
   "language": "python",
   "name": "conda-base-py"
  },
  "language_info": {
   "codemirror_mode": {
    "name": "ipython",
    "version": 3
   },
   "file_extension": ".py",
   "mimetype": "text/x-python",
   "name": "python",
   "nbconvert_exporter": "python",
   "pygments_lexer": "ipython3",
   "version": "3.11.3"
  }
 },
 "nbformat": 4,
 "nbformat_minor": 5
}
