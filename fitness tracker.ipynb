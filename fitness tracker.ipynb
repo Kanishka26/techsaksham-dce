{
 "cells": [
  {
   "cell_type": "code",
   "execution_count": 6,
   "id": "10abb237-c460-4eea-8d8d-07bf9a0aa177",
   "metadata": {},
   "outputs": [],
   "source": [
    "#class is backend\n",
    "\n",
    "class workout:\n",
    "    def __init__(self,date,exercise_type,duration,cb):\n",
    "        self.date=date\n",
    "        self.exercise_type=exercise_type\n",
    "        self.duration=duration\n",
    "        self.cb=cb\n",
    "    def __str__(self):\n",
    "        return f\"Date:{self.date}\\t Exercise:{self.exercise_type}\\t Duration:{self.duration}\"\n",
    "        "
   ]
  },
  {
   "cell_type": "code",
   "execution_count": 8,
   "id": "0e0a0acc-b90c-4f20-ad3e-129e2de67d6f",
   "metadata": {
    "scrolled": true
   },
   "outputs": [
    {
     "name": "stdout",
     "output_type": "stream",
     "text": [
      "Date:19-02-2025\t Exercise:pushup\t Duration:120\n"
     ]
    }
   ],
   "source": [
    "w=workout('19-02-2025','pushup',120,53)\n",
    "print(w)"
   ]
  },
  {
   "cell_type": "code",
   "execution_count": null,
   "id": "bdc403e2-7ae1-4c23-a531-71742a061969",
   "metadata": {},
   "outputs": [],
   "source": [
    "#class abc:\n",
    "#    def __new__(self):\n",
    "#        print(\"hello\")\n",
    "#        instance=super().__new__(self)\n",
    "#        return instance\n",
    "#    def __init__(self):\n",
    "#        self.var=10\n",
    "#a=abc()"
   ]
  },
  {
   "cell_type": "code",
   "execution_count": 40,
   "id": "255aca4a-e2e4-4af9-b8be-e1b9c69d6a9b",
   "metadata": {},
   "outputs": [],
   "source": [
    "# pehle data ko load krna padega nhi to fir data override kr jaega\n",
    "import os.path\n",
    "class user:\n",
    "    def __init__(self,name,age,weight):\n",
    "        self.name=name\n",
    "        self.age=age\n",
    "        self.weight=weight\n",
    "        self.workoutlist=[]\n",
    "    def add_workout(self,work):\n",
    "        self.workoutlist.append(work)\n",
    "    def view_workout(self):\n",
    "        print(\"Date\\tExercise Type\\tDuration\\tCalories burned\")\n",
    "        for work in self.workoutlist:\n",
    "            print(f\"{work.date}\\t{work.exercise_type}\\t{work.duration}\\t{work.cb}\\n\")\n",
    "    def save_data(self,filename):\n",
    "        if os.path.isfile(filename):\n",
    "            \n",
    "            with open(filename,\"r\")as file:\n",
    "                lines=file.readlines()\n",
    "            for line in lines:\n",
    "                line=line.split(',')\n",
    "                w=workout(line[0],line[1],line[2],line[3][:-1])\n",
    "                self.workoutlist.append(w)\n",
    "        st=\"\"\n",
    "        for work in self.workoutlist:\n",
    "            st+=f\"{work.date},{work.exercise_type},{work.duration},{work.cb}\\n\"\n",
    "        with open(filename,\"a\")  as file:\n",
    "            file.write(st)\n",
    "            "
   ]
  },
  {
   "cell_type": "code",
   "execution_count": 18,
   "id": "b8f92b31-4a5e-4006-bd5e-2222a3d09cbf",
   "metadata": {},
   "outputs": [
    {
     "name": "stdout",
     "output_type": "stream",
     "text": [
      "<__main__.user object at 0x000002222927BB90>\n"
     ]
    }
   ],
   "source": [
    "u=user(\"Bob\",23,55)\n",
    "print(u)"
   ]
  },
  {
   "cell_type": "code",
   "execution_count": 24,
   "id": "eb9a249a-755c-4519-a9d5-6a1f0f411593",
   "metadata": {},
   "outputs": [],
   "source": [
    "u.add_workout(workout('13-02-2025','Pushup',98,55))#object of workout, used directly reduced number of lines required\n"
   ]
  },
  {
   "cell_type": "code",
   "execution_count": 26,
   "id": "9cdd6547-5aa4-4a99-afe2-6e82791f7361",
   "metadata": {},
   "outputs": [
    {
     "name": "stdout",
     "output_type": "stream",
     "text": [
      "Date\tExercise Type\tDuration\tCalories burned\n",
      "13-02-2025\tPushup\t98\t55\n",
      "\n"
     ]
    }
   ],
   "source": [
    "\n",
    "u.view_workout()\n"
   ]
  },
  {
   "cell_type": "code",
   "execution_count": 42,
   "id": "b2ada5b6-2634-4dd2-8667-caf0f7abf8a1",
   "metadata": {},
   "outputs": [
    {
     "name": "stdin",
     "output_type": "stream",
     "text": [
      "enter name kanishka\n",
      "enter age 20\n",
      "enter weight 55\n"
     ]
    },
    {
     "name": "stdout",
     "output_type": "stream",
     "text": [
      "1.Add workout\n",
      "2.View workout\n",
      "3.Save Data\n",
      "4.Load Data\n",
      "5.Exit\n"
     ]
    },
    {
     "name": "stdin",
     "output_type": "stream",
     "text": [
      "enter your choice 3\n",
      "enter file name kanishka.txt\n"
     ]
    },
    {
     "name": "stdout",
     "output_type": "stream",
     "text": [
      "hi\n",
      "1.Add workout\n",
      "2.View workout\n",
      "3.Save Data\n",
      "4.Load Data\n",
      "5.Exit\n"
     ]
    },
    {
     "name": "stdin",
     "output_type": "stream",
     "text": [
      "enter your choice 5\n"
     ]
    },
    {
     "name": "stdout",
     "output_type": "stream",
     "text": [
      "thanks for using my app\n"
     ]
    }
   ],
   "source": [
    "def main():\n",
    "    name=input(\"enter name\")\n",
    "    age=input(\"enter age\")\n",
    "    weight=input(\"enter weight\")\n",
    "    newuser=user(name,age,weight)\n",
    "    while True:\n",
    "        print(\"1.Add workout\\n2.View workout\\n3.Save Data\\n4.Load Data\\n5.Exit\")\n",
    "        ch=int(input(\"enter your choice\"))\n",
    "        if ch==1:\n",
    "            date=input(\"enter date- 'dd-mm-yyyy'\")\n",
    "            exercise_Type=input(\"enter exercise type like- pushup,hamstring,chest and back\")\n",
    "            duration=input(\"Enter duration of workout\")\n",
    "            cb=input(\"enter calories burned\")\n",
    "            w=workout(date,exercise_Type,duration,cb)\n",
    "            newuser.add_workout(w)\n",
    "        elif ch==2:\n",
    "            newuser.view_workout()\n",
    "        elif ch==3:\n",
    "            filename=input(\"enter file name\")\n",
    "            newuser.save_data(filename)\n",
    "        elif ch==4:\n",
    "            pass\n",
    "        elif ch==5:\n",
    "            print(\"thanks for using my app\")\n",
    "            break\n",
    "        else:\n",
    "            print(\"wrong chocie\")\n",
    "main()"
   ]
  },
  {
   "cell_type": "code",
   "execution_count": null,
   "id": "5eadff21-45fb-4922-9d5b-1c0779613d30",
   "metadata": {},
   "outputs": [],
   "source": [
    "#write two more functions\n",
    "#filter workout(pass month)\n",
    "#total_calories burned\n",
    "#bmi calculator\n"
   ]
  },
  {
   "cell_type": "code",
   "execution_count": 48,
   "id": "1713c83e-119d-4ed4-b2a1-0d51e0274c8b",
   "metadata": {},
   "outputs": [
    {
     "name": "stdin",
     "output_type": "stream",
     "text": [
      "enter a int 1\n",
      "enter a int 6\n"
     ]
    },
    {
     "name": "stdout",
     "output_type": "stream",
     "text": [
      "0.16666666666666666\n",
      "executed\n"
     ]
    }
   ],
   "source": [
    "#exception handling\n",
    "\n",
    "try:\n",
    "    a=int(input(\"enter a int\"))\n",
    "    b=int(input(\"enter a int\"))\n",
    "    c=a/b\n",
    "    print(c)\n",
    "except ZeroDivisionError:\n",
    "    print(\"we can't divide by zero\")\n",
    "except:\n",
    "    print(\"something wrong contact admin\")\n",
    "else:\n",
    "    print(\"executed\")"
   ]
  },
  {
   "cell_type": "code",
   "execution_count": null,
   "id": "ffbb42a2-4807-4410-bc08-6bd432d030be",
   "metadata": {},
   "outputs": [],
   "source": [
    "#if u know there is an error possible, write code for exception handling\n"
   ]
  },
  {
   "cell_type": "code",
   "execution_count": 52,
   "id": "d7516535-eb8a-4b45-889a-adb67548cab6",
   "metadata": {},
   "outputs": [
    {
     "name": "stdin",
     "output_type": "stream",
     "text": [
      "Enter age -9\n"
     ]
    },
    {
     "ename": "Exception",
     "evalue": "nagative value is not allowed",
     "output_type": "error",
     "traceback": [
      "\u001b[1;31m---------------------------------------------------------------------------\u001b[0m",
      "\u001b[1;31mException\u001b[0m                                 Traceback (most recent call last)",
      "Cell \u001b[1;32mIn[52], line 3\u001b[0m\n\u001b[0;32m      1\u001b[0m age\u001b[38;5;241m=\u001b[39m\u001b[38;5;28mint\u001b[39m(\u001b[38;5;28minput\u001b[39m(\u001b[38;5;124m\"\u001b[39m\u001b[38;5;124mEnter age\u001b[39m\u001b[38;5;124m\"\u001b[39m))\n\u001b[0;32m      2\u001b[0m \u001b[38;5;28;01mif\u001b[39;00m age\u001b[38;5;241m<\u001b[39m\u001b[38;5;241m0\u001b[39m:\n\u001b[1;32m----> 3\u001b[0m     \u001b[38;5;28;01mraise\u001b[39;00m \u001b[38;5;167;01mException\u001b[39;00m(\u001b[38;5;124m\"\u001b[39m\u001b[38;5;124mnagative value is not allowed\u001b[39m\u001b[38;5;124m\"\u001b[39m)\n",
      "\u001b[1;31mException\u001b[0m: nagative value is not allowed"
     ]
    }
   ],
   "source": [
    "age=int(input(\"Enter age\"))\n",
    "if age<0:\n",
    "    raise Exception(\"nagative value is not allowed\")\n",
    "#except Exception as e:\n",
    " #   print(e)"
   ]
  }
 ],
 "metadata": {
  "kernelspec": {
   "display_name": "Python [conda env:base] *",
   "language": "python",
   "name": "conda-base-py"
  },
  "language_info": {
   "codemirror_mode": {
    "name": "ipython",
    "version": 3
   },
   "file_extension": ".py",
   "mimetype": "text/x-python",
   "name": "python",
   "nbconvert_exporter": "python",
   "pygments_lexer": "ipython3",
   "version": "3.11.3"
  }
 },
 "nbformat": 4,
 "nbformat_minor": 5
}
