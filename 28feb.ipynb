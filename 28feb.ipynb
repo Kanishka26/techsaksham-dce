{
 "cells": [
  {
   "cell_type": "code",
   "execution_count": 13,
   "id": "08db7079-fe04-4f27-bd82-ceb9ba978bfe",
   "metadata": {},
   "outputs": [
    {
     "name": "stdout",
     "output_type": "stream",
     "text": [
      "Defaulting to user installation because normal site-packages is not writeable\n",
      "Requirement already satisfied: numpy in c:\\programdata\\anaconda3\\lib\\site-packages (1.24.3)\n"
     ]
    }
   ],
   "source": [
    "!pip install numpy\n"
   ]
  },
  {
   "cell_type": "code",
   "execution_count": 14,
   "id": "07690913-7b19-49eb-be75-1e9a15eee20a",
   "metadata": {},
   "outputs": [
    {
     "name": "stdout",
     "output_type": "stream",
     "text": [
      "Defaulting to user installation because normal site-packages is not writeable\n",
      "Requirement already satisfied: pandas in c:\\programdata\\anaconda3\\lib\\site-packages (1.5.3)\n",
      "Requirement already satisfied: python-dateutil>=2.8.1 in c:\\programdata\\anaconda3\\lib\\site-packages (from pandas) (2.8.2)\n",
      "Requirement already satisfied: pytz>=2020.1 in c:\\programdata\\anaconda3\\lib\\site-packages (from pandas) (2022.7)\n",
      "Requirement already satisfied: numpy>=1.21.0 in c:\\programdata\\anaconda3\\lib\\site-packages (from pandas) (1.24.3)\n",
      "Requirement already satisfied: six>=1.5 in c:\\programdata\\anaconda3\\lib\\site-packages (from python-dateutil>=2.8.1->pandas) (1.16.0)\n"
     ]
    }
   ],
   "source": [
    "!pip install pandas\n"
   ]
  },
  {
   "cell_type": "code",
   "execution_count": 15,
   "id": "7cf722ab-1fcb-4809-838e-ce5c3bf9dd84",
   "metadata": {},
   "outputs": [
    {
     "data": {
      "text/plain": [
       "'1.24.3'"
      ]
     },
     "execution_count": 15,
     "metadata": {},
     "output_type": "execute_result"
    }
   ],
   "source": [
    "import numpy\n",
    "numpy.__version__"
   ]
  },
  {
   "cell_type": "code",
   "execution_count": 16,
   "id": "625df2d3-0fa5-400c-a7a0-2987bb9f72ce",
   "metadata": {},
   "outputs": [],
   "source": [
    "import numpy as np"
   ]
  },
  {
   "cell_type": "code",
   "execution_count": 17,
   "id": "fc700ab1-173c-41b9-809f-7d4f47ceabb1",
   "metadata": {},
   "outputs": [
    {
     "data": {
      "text/plain": [
       "0"
      ]
     },
     "execution_count": 17,
     "metadata": {},
     "output_type": "execute_result"
    }
   ],
   "source": [
    "arr=np.array(10)\n",
    "arr.ndim #to see dimension of array"
   ]
  },
  {
   "cell_type": "code",
   "execution_count": 18,
   "id": "c4a12213-6044-440a-860c-c1b2c33ab95c",
   "metadata": {},
   "outputs": [
    {
     "name": "stdout",
     "output_type": "stream",
     "text": [
      "[10 23 45 56 67 78]\n",
      "1\n",
      "(6,)\n",
      "6\n"
     ]
    }
   ],
   "source": [
    "#make one d array and all functions used on it\n",
    "oneDarray=np.array([10,23,45,56,67,78])\n",
    "print(oneDarray)\n",
    "print(oneDarray.ndim)\n",
    "print(oneDarray.shape)\n",
    "print(oneDarray.size)"
   ]
  },
  {
   "cell_type": "code",
   "execution_count": 19,
   "id": "3c4f2c44-800d-41fc-b4a2-953c791e7964",
   "metadata": {},
   "outputs": [
    {
     "name": "stdout",
     "output_type": "stream",
     "text": [
      "2\n",
      "[[1 2 3]\n",
      " [4 5 6]\n",
      " [7 8 9]]\n",
      "(3, 3)\n",
      "9\n"
     ]
    }
   ],
   "source": [
    "#make two d array and all functions used on it\n",
    "twoDarr=np.array([[1,2,3],[4,5,6],[7,8,9]])\n",
    "print(twoDarr.ndim)\n",
    "print(twoDarr)\n",
    "print(twoDarr.shape)\n",
    "print(twoDarr.size)"
   ]
  },
  {
   "cell_type": "code",
   "execution_count": 20,
   "id": "ace9f218-d5a9-48df-8e5c-ac39eea4f88c",
   "metadata": {},
   "outputs": [
    {
     "data": {
      "text/plain": [
       "array([0, 0, 0, 0, 0, 0, 0, 0, 0])"
      ]
     },
     "execution_count": 20,
     "metadata": {},
     "output_type": "execute_result"
    }
   ],
   "source": [
    "#one d zero array\n",
    "zerosarr=np.zeros(9,dtype=int)\n",
    "zerosarr"
   ]
  },
  {
   "cell_type": "code",
   "execution_count": 21,
   "id": "47c9aa09-007f-4ade-9626-6b4f5f9c2d5d",
   "metadata": {},
   "outputs": [
    {
     "data": {
      "text/plain": [
       "array([[0., 0., 0.],\n",
       "       [0., 0., 0.]])"
      ]
     },
     "execution_count": 21,
     "metadata": {},
     "output_type": "execute_result"
    }
   ],
   "source": [
    "#2d zeros array\n",
    "zero2d=np.zeros((2,3))\n",
    "zero2d"
   ]
  },
  {
   "cell_type": "code",
   "execution_count": 22,
   "id": "a2a983ec-f7fd-4a4f-bfd7-5f2cf6d8b8df",
   "metadata": {},
   "outputs": [
    {
     "data": {
      "text/plain": [
       "array([[[0., 0., 0., 0.],\n",
       "        [0., 0., 0., 0.],\n",
       "        [0., 0., 0., 0.]],\n",
       "\n",
       "       [[0., 0., 0., 0.],\n",
       "        [0., 0., 0., 0.],\n",
       "        [0., 0., 0., 0.]]])"
      ]
     },
     "execution_count": 22,
     "metadata": {},
     "output_type": "execute_result"
    }
   ],
   "source": [
    "#3d array\n",
    "threearr=np.zeros((2,3,4))\n",
    "threearr"
   ]
  },
  {
   "cell_type": "code",
   "execution_count": 23,
   "id": "40207239-f81f-421e-872b-d00bb89dd3d4",
   "metadata": {},
   "outputs": [
    {
     "data": {
      "text/plain": [
       "array([1., 1., 1., 1., 1., 1., 1., 1., 1.])"
      ]
     },
     "execution_count": 23,
     "metadata": {},
     "output_type": "execute_result"
    }
   ],
   "source": [
    "onedones=np.ones(9)\n",
    "onedones"
   ]
  },
  {
   "cell_type": "code",
   "execution_count": 24,
   "id": "ad1c0359-d436-4d6b-8c04-6a4b6e09fc4a",
   "metadata": {},
   "outputs": [
    {
     "name": "stdout",
     "output_type": "stream",
     "text": [
      "[1 2 3 4 5 6 7 8 9]\n"
     ]
    },
    {
     "data": {
      "text/plain": [
       "array([[1, 2, 3],\n",
       "       [4, 5, 6],\n",
       "       [7, 8, 9]])"
      ]
     },
     "execution_count": 24,
     "metadata": {},
     "output_type": "execute_result"
    }
   ],
   "source": [
    "#to reshape the array\n",
    "#reshape is done perfectly\n",
    "#7 element array cannot be reshaped into 2x3 array)\n",
    "#reshape only gives view , does not effect actual array\n",
    "arr1=np.array([1,2,3,4,5,6,7,8,9])\n",
    "print(arr1)\n",
    "arr1.reshape((3,3))"
   ]
  },
  {
   "cell_type": "code",
   "execution_count": 25,
   "id": "0f711005-acc4-4f07-be67-042f80dac368",
   "metadata": {},
   "outputs": [
    {
     "data": {
      "text/plain": [
       "array([[1., 0.],\n",
       "       [0., 1.]])"
      ]
     },
     "execution_count": 25,
     "metadata": {},
     "output_type": "execute_result"
    }
   ],
   "source": [
    "#make array with constant values\n",
    "np.full((3,3),9)\n",
    "#identity matric\n",
    "np.eye(2)"
   ]
  },
  {
   "cell_type": "code",
   "execution_count": 26,
   "id": "d86f91bd-e80e-4d2a-b536-e062d8824fca",
   "metadata": {},
   "outputs": [
    {
     "data": {
      "text/plain": [
       "array([0.9192533 , 0.85435556, 0.73980942, 0.57265986, 0.52906726,\n",
       "       0.46337767, 0.68056516, 0.50070555, 0.2487709 , 0.7343899 ])"
      ]
     },
     "execution_count": 26,
     "metadata": {},
     "output_type": "execute_result"
    }
   ],
   "source": [
    "#generate an array having 10 random values between 0 to 1\n",
    "np.random.rand(10)\n",
    "\n"
   ]
  },
  {
   "cell_type": "code",
   "execution_count": 27,
   "id": "f4402c15-2bf8-489e-ae81-b962ed8a51c2",
   "metadata": {},
   "outputs": [
    {
     "data": {
      "text/plain": [
       "0.9264206079147034"
      ]
     },
     "execution_count": 27,
     "metadata": {},
     "output_type": "execute_result"
    }
   ],
   "source": [
    "np.random.rand()"
   ]
  },
  {
   "cell_type": "code",
   "execution_count": 28,
   "id": "1d683aad-fa84-4561-b8ca-55ce5c222a89",
   "metadata": {},
   "outputs": [
    {
     "data": {
      "text/plain": [
       "array([[0.47336223, 0.15559229, 0.43697516],\n",
       "       [0.30817742, 0.72303222, 0.91085071],\n",
       "       [0.45089484, 0.95313703, 0.05272039]])"
      ]
     },
     "execution_count": 28,
     "metadata": {},
     "output_type": "execute_result"
    }
   ],
   "source": [
    "np.random.rand(9).reshape((3,3))"
   ]
  },
  {
   "cell_type": "code",
   "execution_count": 29,
   "id": "71e47686-6365-4bd6-9901-b53a28ba9f4a",
   "metadata": {},
   "outputs": [
    {
     "data": {
      "text/plain": [
       "4"
      ]
     },
     "execution_count": 29,
     "metadata": {},
     "output_type": "execute_result"
    }
   ],
   "source": [
    "#generate random value in between a given range\n",
    "np.random.randint(1,10)\n"
   ]
  },
  {
   "cell_type": "code",
   "execution_count": 30,
   "id": "1479bbd0-9d4c-405a-a9b2-f3b281db9261",
   "metadata": {},
   "outputs": [
    {
     "name": "stdout",
     "output_type": "stream",
     "text": [
      "3\n"
     ]
    }
   ],
   "source": [
    "#generate a dice\n",
    "dice=np.random.randint(1,7)\n",
    "print(dice)"
   ]
  },
  {
   "cell_type": "code",
   "execution_count": 57,
   "id": "17ae3a30-bb8b-4108-8544-1a5171708a4f",
   "metadata": {},
   "outputs": [
    {
     "name": "stdin",
     "output_type": "stream",
     "text": [
      "enter 1 for rock 2 for paper and 3 for scissors 1\n"
     ]
    },
    {
     "name": "stdout",
     "output_type": "stream",
     "text": [
      "Computer wins\n",
      "Your score-\n",
      "User Score-0 amd Computer Score- 0\n"
     ]
    },
    {
     "name": "stdin",
     "output_type": "stream",
     "text": [
      "enter 1 for rock 2 for paper and 3 for scissors 0\n"
     ]
    },
    {
     "name": "stdout",
     "output_type": "stream",
     "text": [
      "Computer wins\n",
      "Your score-\n",
      "User Score-0 amd Computer Score- 0\n"
     ]
    },
    {
     "ename": "KeyboardInterrupt",
     "evalue": "Interrupted by user",
     "output_type": "error",
     "traceback": [
      "\u001b[1;31m---------------------------------------------------------------------------\u001b[0m",
      "\u001b[1;31mKeyboardInterrupt\u001b[0m                         Traceback (most recent call last)",
      "Cell \u001b[1;32mIn[57], line 7\u001b[0m\n\u001b[0;32m      5\u001b[0m \u001b[38;5;28;01mwhile\u001b[39;00m t\u001b[38;5;241m>\u001b[39m\u001b[38;5;241m0\u001b[39m:\n\u001b[0;32m      6\u001b[0m     comp\u001b[38;5;241m=\u001b[39mnp\u001b[38;5;241m.\u001b[39mrandom\u001b[38;5;241m.\u001b[39mrandint(\u001b[38;5;241m1\u001b[39m,\u001b[38;5;241m4\u001b[39m)\n\u001b[1;32m----> 7\u001b[0m     user\u001b[38;5;241m=\u001b[39m\u001b[38;5;28mint\u001b[39m(\u001b[38;5;28minput\u001b[39m(\u001b[38;5;124m\"\u001b[39m\u001b[38;5;124menter 1 for rock 2 for paper and 3 for scissors\u001b[39m\u001b[38;5;124m\"\u001b[39m))\n\u001b[0;32m      8\u001b[0m     \u001b[38;5;28;01mif\u001b[39;00m user\u001b[38;5;241m==\u001b[39mcomp:\n\u001b[0;32m      9\u001b[0m         \u001b[38;5;28mprint\u001b[39m(\u001b[38;5;124m\"\u001b[39m\u001b[38;5;124mTie\u001b[39m\u001b[38;5;124m\"\u001b[39m)\n",
      "File \u001b[1;32mC:\\ProgramData\\anaconda3\\Lib\\site-packages\\ipykernel\\kernelbase.py:1175\u001b[0m, in \u001b[0;36mKernel.raw_input\u001b[1;34m(self, prompt)\u001b[0m\n\u001b[0;32m   1171\u001b[0m \u001b[38;5;28;01mif\u001b[39;00m \u001b[38;5;129;01mnot\u001b[39;00m \u001b[38;5;28mself\u001b[39m\u001b[38;5;241m.\u001b[39m_allow_stdin:\n\u001b[0;32m   1172\u001b[0m     \u001b[38;5;28;01mraise\u001b[39;00m StdinNotImplementedError(\n\u001b[0;32m   1173\u001b[0m         \u001b[38;5;124m\"\u001b[39m\u001b[38;5;124mraw_input was called, but this frontend does not support input requests.\u001b[39m\u001b[38;5;124m\"\u001b[39m\n\u001b[0;32m   1174\u001b[0m     )\n\u001b[1;32m-> 1175\u001b[0m \u001b[38;5;28;01mreturn\u001b[39;00m \u001b[38;5;28mself\u001b[39m\u001b[38;5;241m.\u001b[39m_input_request(\n\u001b[0;32m   1176\u001b[0m     \u001b[38;5;28mstr\u001b[39m(prompt),\n\u001b[0;32m   1177\u001b[0m     \u001b[38;5;28mself\u001b[39m\u001b[38;5;241m.\u001b[39m_parent_ident[\u001b[38;5;124m\"\u001b[39m\u001b[38;5;124mshell\u001b[39m\u001b[38;5;124m\"\u001b[39m],\n\u001b[0;32m   1178\u001b[0m     \u001b[38;5;28mself\u001b[39m\u001b[38;5;241m.\u001b[39mget_parent(\u001b[38;5;124m\"\u001b[39m\u001b[38;5;124mshell\u001b[39m\u001b[38;5;124m\"\u001b[39m),\n\u001b[0;32m   1179\u001b[0m     password\u001b[38;5;241m=\u001b[39m\u001b[38;5;28;01mFalse\u001b[39;00m,\n\u001b[0;32m   1180\u001b[0m )\n",
      "File \u001b[1;32mC:\\ProgramData\\anaconda3\\Lib\\site-packages\\ipykernel\\kernelbase.py:1217\u001b[0m, in \u001b[0;36mKernel._input_request\u001b[1;34m(self, prompt, ident, parent, password)\u001b[0m\n\u001b[0;32m   1214\u001b[0m             \u001b[38;5;28;01mbreak\u001b[39;00m\n\u001b[0;32m   1215\u001b[0m \u001b[38;5;28;01mexcept\u001b[39;00m \u001b[38;5;167;01mKeyboardInterrupt\u001b[39;00m:\n\u001b[0;32m   1216\u001b[0m     \u001b[38;5;66;03m# re-raise KeyboardInterrupt, to truncate traceback\u001b[39;00m\n\u001b[1;32m-> 1217\u001b[0m     \u001b[38;5;28;01mraise\u001b[39;00m \u001b[38;5;167;01mKeyboardInterrupt\u001b[39;00m(\u001b[38;5;124m\"\u001b[39m\u001b[38;5;124mInterrupted by user\u001b[39m\u001b[38;5;124m\"\u001b[39m) \u001b[38;5;28;01mfrom\u001b[39;00m \u001b[38;5;28;01mNone\u001b[39;00m\n\u001b[0;32m   1218\u001b[0m \u001b[38;5;28;01mexcept\u001b[39;00m \u001b[38;5;167;01mException\u001b[39;00m:\n\u001b[0;32m   1219\u001b[0m     \u001b[38;5;28mself\u001b[39m\u001b[38;5;241m.\u001b[39mlog\u001b[38;5;241m.\u001b[39mwarning(\u001b[38;5;124m\"\u001b[39m\u001b[38;5;124mInvalid Message:\u001b[39m\u001b[38;5;124m\"\u001b[39m, exc_info\u001b[38;5;241m=\u001b[39m\u001b[38;5;28;01mTrue\u001b[39;00m)\n",
      "\u001b[1;31mKeyboardInterrupt\u001b[0m: Interrupted by user"
     ]
    }
   ],
   "source": [
    "#rock paper scissors\n",
    "score_u,score_c=0,0\n",
    "b=[0,'Rock','paper','scissors']\n",
    "t=10\n",
    "while t>0:\n",
    "    comp=np.random.randint(1,4)\n",
    "    user=int(input(\"enter 1 for rock 2 for paper and 3 for scissors\"))\n",
    "    if user==comp:\n",
    "        print(\"Tie\")\n",
    "        print(\"Your score-\")\n",
    "        print(f\"User Score-{score_u} amd Computer Score- {score_c}\")\n",
    "    elif(user==1 and comp==3)or(user==2 and comp==1)or(user==3 and comp==2):\n",
    "        print(\"User wins\")\n",
    "        score_u=score_u+1\n",
    "        print(\"Your score-\")\n",
    "        print(f\"User Score-{score_u} amd Computer Score- {score_c}\")\n",
    "    else:\n",
    "        print(\"Computer wins\")\n",
    "        score_c=score_c+1\n",
    "        print(\"Your score-\")\n",
    "        print(f\"User Score-{score_u} amd Computer Score- {score_c}\")\n",
    "    t-=1\n",
    "        \n"
   ]
  },
  {
   "cell_type": "code",
   "execution_count": null,
   "id": "37de6390-fd73-48fe-bf72-1d6333ce8fd3",
   "metadata": {},
   "outputs": [],
   "source": []
  },
  {
   "cell_type": "code",
   "execution_count": null,
   "id": "f6c91dec-29ea-4b30-8ff0-bbbbbbe88c8b",
   "metadata": {},
   "outputs": [],
   "source": []
  }
 ],
 "metadata": {
  "kernelspec": {
   "display_name": "Python [conda env:base] *",
   "language": "python",
   "name": "conda-base-py"
  },
  "language_info": {
   "codemirror_mode": {
    "name": "ipython",
    "version": 3
   },
   "file_extension": ".py",
   "mimetype": "text/x-python",
   "name": "python",
   "nbconvert_exporter": "python",
   "pygments_lexer": "ipython3",
   "version": "3.11.3"
  }
 },
 "nbformat": 4,
 "nbformat_minor": 5
}
