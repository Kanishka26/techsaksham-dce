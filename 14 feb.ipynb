{
 "cells": [
  {
   "cell_type": "code",
   "execution_count": 3,
   "id": "8d7390c3-af1a-44a0-bef2-5ac7f059ba8d",
   "metadata": {},
   "outputs": [
    {
     "name": "stdout",
     "output_type": "stream",
     "text": [
      "i am info\n",
      "i am info\n",
      "i am instance method\n"
     ]
    }
   ],
   "source": [
    "class abc:\n",
    "    #instance method\n",
    "    def display(self):\n",
    "        print(\"i am instance method\")\n",
    "    #static method\n",
    "    @staticmethod\n",
    "    def info():\n",
    "        print(\"i am info\")\n",
    "c=abc()\n",
    "c.info()\n",
    "abc.info()\n",
    "c.display()\n",
    "#abc.diplay() ->won't work"
   ]
  },
  {
   "cell_type": "code",
   "execution_count": 17,
   "id": "4e604235-697e-4b1a-b151-effb2bf09bf6",
   "metadata": {},
   "outputs": [
    {
     "name": "stdout",
     "output_type": "stream",
     "text": [
      "30\n"
     ]
    },
    {
     "data": {
      "text/plain": [
       "20"
      ]
     },
     "execution_count": 17,
     "metadata": {},
     "output_type": "execute_result"
    }
   ],
   "source": [
    "#constructor\n",
    "#setter ->method can set a value\n",
    "#getter ->method can get a value\n",
    "class abc:\n",
    "    def __init__(self):\n",
    "        self.p=10\n",
    "        self.__priv=20\n",
    "        self._pro=30\n",
    "a=abc()\n",
    "print(a._pro)#protected\n",
    "a._abc__priv#python allows to access private variable using this(private can be accesed through class)"
   ]
  },
  {
   "cell_type": "code",
   "execution_count": 21,
   "id": "a40397ed-3ea6-4756-b1b1-76f8b8446cbc",
   "metadata": {},
   "outputs": [
    {
     "name": "stdout",
     "output_type": "stream",
     "text": [
      "12\n"
     ]
    }
   ],
   "source": [
    "#constructor\n",
    "#setter ->method can set a value\n",
    "#getter ->method can get a value\n",
    "class abc:\n",
    "    def __init__(self):\n",
    "        self.p=10\n",
    "        self.__priv=20\n",
    "        self._pro=30\n",
    "    def setpriv(self,val):\n",
    "        self._priv=val\n",
    "    def getpriv(self):\n",
    "        print(self._priv)\n",
    "a=abc()\n",
    "a.setpriv(12)\n",
    "a.getpriv()\n"
   ]
  },
  {
   "cell_type": "code",
   "execution_count": 10,
   "id": "a1c8ebc9-676e-4c92-b3ed-22e8d2b63674",
   "metadata": {},
   "outputs": [
    {
     "name": "stdout",
     "output_type": "stream",
     "text": [
      "i am inside apnabank\n"
     ]
    }
   ],
   "source": [
    "#abstract class only for signature not definition(template class)\n",
    "#concrete mthod i method with signature and definition \n",
    "from abc import ABC, abstractmethod\n",
    "class bank(ABC):\n",
    "    @abstractmethod\n",
    "    def verifyid(self):\n",
    "        pass\n",
    "class apnabank(bank):\n",
    "    def verifyid(self):\n",
    "        print(\"i am inside apnabank\")\n",
    "    #pass #it is necessary to implement abstract function in the derived class or object cannot be created #if method not override then class becomes abstract class\n",
    "    \n",
    "b=apnabank()\n",
    "b.verifyid()"
   ]
  },
  {
   "cell_type": "code",
   "execution_count": 24,
   "id": "8bbb2bbf-ac0c-4464-a50d-edd5fb70aca1",
   "metadata": {},
   "outputs": [
    {
     "name": "stdout",
     "output_type": "stream",
     "text": [
      "Area of circle: 100.48\n",
      "perimeter of circle: 25.12\n",
      "area of rectangle: 40\n",
      "perimeter of rectangle: 26\n",
      "area of square: 4\n",
      "perimeter of square: 8\n"
     ]
    }
   ],
   "source": [
    "#write a abstract class - shape  with methods area and perimeter\n",
    "\n",
    "from abc import ABC, abstractmethod\n",
    "\n",
    "class shape(ABC):\n",
    "    @abstractmethod\n",
    "    def area(self):\n",
    "        pass\n",
    "    @abstractmethod \n",
    "    def perimeter(self):\n",
    "        pass\n",
    "class circle(shape):\n",
    "    def __init__(self,radius):\n",
    "        self.radius=radius\n",
    "    def area(self):\n",
    "        print(\"Area of circle:\", 2*3.14*(self.radius**2))\n",
    "    def perimeter(self):\n",
    "        print(\"perimeter of circle:\",2*3.14*self.radius)\n",
    "class rectangle(shape):\n",
    "    def __init__(self,l,b):\n",
    "        self.l=l\n",
    "        self.b=b\n",
    "    def area(self):\n",
    "        print(\"area of rectangle:\",self.l*self.b)\n",
    "    def perimeter(self):\n",
    "        print(\"perimeter of rectangle:\",2*(self.l + self.b))\n",
    "class square(shape):\n",
    "    def __init__(self,side):\n",
    "        self.side=side\n",
    "    def area(self):\n",
    "        print(\"area of square:\", self.side*self.side)\n",
    "    def perimeter(self):\n",
    "        print(\"perimeter of square:\",4*self.side)\n",
    "        \n",
    "c=circle(4)\n",
    "c.area()\n",
    "c.perimeter()\n",
    "r=rectangle(5,8)\n",
    "r.area()\n",
    "r.perimeter()\n",
    "s=square(2)\n",
    "s.area()\n",
    "s.perimeter()"
   ]
  },
  {
   "cell_type": "code",
   "execution_count": 28,
   "id": "304877e2-e996-46c0-8656-206fece45f7d",
   "metadata": {},
   "outputs": [],
   "source": [
    " #linked list\n",
    "class node:\n",
    "    def __init__(self,data):\n",
    "        self.data=data\n",
    "        self.nect=None\n",
    "class linkedlist:\n",
    "    def __init__(self):\n",
    "        self.head = None\n",
    "    def insertAtBeg(self,data):\n",
    "        newnode =node(data)\n",
    "        if self.head==None:\n",
    "            self.head = newnode\n",
    "        else:\n",
    "            newnode.next = self.head\n",
    "            self.head =newnode\n",
    "    def traverse(self):\n",
    "        temp=self.head\n",
    "        while temp !=None:\n",
    "            print('{} ->'.format(temp.data))\n",
    "            temp=temp.next\n",
    "l=linkedlist()\n",
    "l.insertAtBeg(100)\n",
    "l.insertAtBeg(90)\n",
    "l.insertAtBeg(80)\n",
    "l.insertAtBeg(70)\n",
    "l.insertAtBeg(60)\n",
    "l.insertAtBeg(50)\n",
    "l.insertAtBeg(40)\n",
    "l.insertAtBeg(30)\n",
    "l.insertAtBeg(20)\n",
    "l.insertAtBeg(10)"
   ]
  }
 ],
 "metadata": {
  "kernelspec": {
   "display_name": "Python [conda env:base] *",
   "language": "python",
   "name": "conda-base-py"
  },
  "language_info": {
   "codemirror_mode": {
    "name": "ipython",
    "version": 3
   },
   "file_extension": ".py",
   "mimetype": "text/x-python",
   "name": "python",
   "nbconvert_exporter": "python",
   "pygments_lexer": "ipython3",
   "version": "3.11.3"
  }
 },
 "nbformat": 4,
 "nbformat_minor": 5
}
