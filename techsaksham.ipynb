{
 "cells": [
  {
   "cell_type": "code",
   "execution_count": 3,
   "id": "90538d39-ee97-495c-8a4b-381ea1f9014c",
   "metadata": {},
   "outputs": [
    {
     "name": "stdout",
     "output_type": "stream",
     "text": [
      "Make -> Maruti\n",
      " Model->Suzuki\n",
      " Year->2024\n"
     ]
    }
   ],
   "source": [
    "class vehicle:\n",
    "    def __init__(self,make,model,year):\n",
    "        self.make=make\n",
    "        self.model=model\n",
    "        self.year=year\n",
    "    def display(self):\n",
    "        print(\"Make -> {}\\n Model->{}\\n Year->{}\".format(self.make,self.model,self.year))\n",
    "c1=vehicle(\"Maruti\",\"Suzuki\",2024)\n",
    "c1.display()\n",
    "\n",
    "        "
   ]
  },
  {
   "cell_type": "code",
   "execution_count": null,
   "id": "629f4601-d9ce-4831-875a-b78bc6f9e616",
   "metadata": {},
   "outputs": [],
   "source": [
    "1\tclass vehicle:\n",
    "2\t    def __init__(self,make,model,year):\n",
    "3\t        self.make=make\n",
    "4\t        self.model=model\n",
    "5\t        self.year=year\n",
    "6\t    def display(self):\n",
    "7\t        print(\"Make -> {}\\n Model->{}\\n Year->{}\".format(self.make,self.model,self.year))\n",
    "8\t    def updateYear(self,year):\n",
    "9\t        self.year=year\n",
    "10\tc1=vehicle(\"Maruti\",\"Suzuki\",2024)\n",
    "11\tc2=vehicle(\"Tata\",\"Nexon\",2023)\n",
    "12\tc1.updateYear(2004)"
   ]
  },
  {
   "cell_type": "code",
   "execution_count": 17,
   "id": "c9c6077a-c85f-4a0a-8170-dda053490c35",
   "metadata": {},
   "outputs": [
    {
     "name": "stdout",
     "output_type": "stream",
     "text": [
      "the last of us\n"
     ]
    }
   ],
   "source": [
    "class books:\n",
    "    def __init__(self):\n",
    "        self.l=[]\n",
    "    def add(self,title):\n",
    "         self.l.append(title)\n",
    "    def remove(self,title):\n",
    "        self.l.remove(title)\n",
    "    def display(self):\n",
    "        for i in self.l:\n",
    "            print(i)\n",
    "c1=books()\n",
    "c1.add(\"the last of us\")\n",
    "c1.display()"
   ]
  },
  {
   "cell_type": "code",
   "execution_count": 27,
   "id": "ddbf12d1-9334-431c-b39f-e0e6e945bbd7",
   "metadata": {},
   "outputs": [
    {
     "name": "stdin",
     "output_type": "stream",
     "text": [
      "enter the point (3,4)\n",
      "enter point 2 (9,7)\n"
     ]
    },
    {
     "name": "stdout",
     "output_type": "stream",
     "text": [
      "0.5\n",
      "22.5\n"
     ]
    }
   ],
   "source": [
    "class line:\n",
    "    def __init__(self,p1,p2):\n",
    "        self.p1=p1\n",
    "        self.p2=p2\n",
    "    def slope(self):\n",
    "        slope=(self.p2[1]-self.p1[1])/(self.p2[0]-self.p1[0])\n",
    "        print(slope)\n",
    "    def dist(self):\n",
    "        dis=((self.p2[0]-self.p1[0])**2 + (self.p2[1]-self.p1[1])**2)**1/2\n",
    "        print(dis)\n",
    "p1=eval(input(\"enter the point\"))\n",
    "p2=eval(input(\"enter point 2\"))\n",
    "l=line(p1,p2)\n",
    "l.slope()\n",
    "l.dist()\n"
   ]
  },
  {
   "cell_type": "code",
   "execution_count": 43,
   "id": "6c4f3cbd-c04a-4cd8-8d38-6dc497dcecdb",
   "metadata": {
    "scrolled": true
   },
   "outputs": [
    {
     "name": "stdout",
     "output_type": "stream",
     "text": [
      "2001\tTiya\tCSE\n",
      "2001\tRam\tCSE\n",
      "2002\tBob\tIT\n"
     ]
    }
   ],
   "source": [
    "class student:\n",
    "    def __init__(self,stuid,name,branch):\n",
    "        self.stuid=stuid\n",
    "        self.name=name\n",
    "        self.branch=branch\n",
    "    def display(self):\n",
    "        print(\"{}\\t{}\\t{}\".format(self.stuid,self.name,self.branch))\n",
    "s1=student(2001,\"Tiya\",\"CSE\")\n",
    "s1.display()\n",
    "class sim:\n",
    "    stuid=2000\n",
    "    def __init__(self):\n",
    "        self.studentlist= {}\n",
    "    def addstudent(self,name,branch):\n",
    "        sim.stuid=sim.stuid+1\n",
    "        self.studentlist[sim.stuid]= student(sim.stuid,name,branch)\n",
    "    def displayall(self):\n",
    "        for k,v in self.studentlist.items():\n",
    "            v.display()\n",
    "    def search(self,stuid):\n",
    "        result=self.studentlist.get(stuid,False)\n",
    "        if result:\n",
    "            result.display()\n",
    "        else:\n",
    "            print(\"student not registered\")\n",
    "            \n",
    "\n",
    "s=sim()\n",
    "s.addstudent(\"Ram\",\"CSE\")\n",
    "s.addstudent(\"Bob\",\"IT\")\n",
    "s.displayall()\n",
    "s.search(2001)\n"
   ]
  },
  {
   "cell_type": "code",
   "execution_count": null,
   "id": "5d2ea551-edde-4780-8407-b3ee04af305d",
   "metadata": {},
   "outputs": [],
   "source": []
  }
 ],
 "metadata": {
  "kernelspec": {
   "display_name": "Python [conda env:base] *",
   "language": "python",
   "name": "conda-base-py"
  },
  "language_info": {
   "codemirror_mode": {
    "name": "ipython",
    "version": 3
   },
   "file_extension": ".py",
   "mimetype": "text/x-python",
   "name": "python",
   "nbconvert_exporter": "python",
   "pygments_lexer": "ipython3",
   "version": "3.11.3"
  }
 },
 "nbformat": 4,
 "nbformat_minor": 5
}
