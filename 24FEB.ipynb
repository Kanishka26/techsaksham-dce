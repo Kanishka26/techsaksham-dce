{
 "cells": [
  {
   "cell_type": "code",
   "execution_count": 1,
   "id": "d921ed71-7213-443f-9f3f-a534f1cc3d7e",
   "metadata": {},
   "outputs": [
    {
     "name": "stdout",
     "output_type": "stream",
     "text": [
      "Requirement already satisfied: mysql-connector-python in c:\\users\\kanis\\onedrive\\desktop\\techsaksham\\project\\mydbenv\\lib\\site-packages (9.2.0)\n"
     ]
    },
    {
     "name": "stderr",
     "output_type": "stream",
     "text": [
      "\n",
      "[notice] A new release of pip is available: 24.3.1 -> 25.0.1\n",
      "[notice] To update, run: python.exe -m pip install --upgrade pip\n"
     ]
    }
   ],
   "source": [
    "!pip install mysql-connector-python\n"
   ]
  },
  {
   "cell_type": "code",
   "execution_count": 2,
   "id": "1d5ac829-fbf0-4825-b022-5ce282686fa3",
   "metadata": {},
   "outputs": [
    {
     "name": "stdout",
     "output_type": "stream",
     "text": [
      "[('dce',), ('dcedata',), ('exp3',), ('fraudomed',), ('information_schema',), ('mysql',), ('performance_schema',), ('sakila',), ('sys',), ('world',)]\n"
     ]
    }
   ],
   "source": [
    "import mysql.connector\n",
    "try:\n",
    "    con=mysql.connector.connect(host='localhost',user='root',password='password',database='DCEdata')\n",
    "    cur=con.cursor()\n",
    "    cur.execute('show databases;')\n",
    "    print(cur.fetchall())\n",
    "    con.close()\n",
    "except Exception as e:\n",
    "    print(e)"
   ]
  },
  {
   "cell_type": "code",
   "execution_count": null,
   "id": "62b92af8-b7c6-4669-b690-22e30c6117ef",
   "metadata": {},
   "outputs": [
    {
     "name": "stdout",
     "output_type": "stream",
     "text": [
      "********************Welcome to my App********************\n",
      "1.Signin\n",
      "2.Signup\n",
      "3.Search\n",
      "4.DisplayAll\n",
      "5.Exit\n"
     ]
    },
    {
     "name": "stdin",
     "output_type": "stream",
     "text": [
      "enter your choice 4\n"
     ]
    },
    {
     "name": "stdout",
     "output_type": "stream",
     "text": [
      "********************ALL RECORDS********************\n",
      "2002\tRiya\tCsit\t2022\n",
      "********************END********************\n",
      "1.Signin\n",
      "2.Signup\n",
      "3.Search\n",
      "4.DisplayAll\n",
      "5.Exit\n"
     ]
    }
   ],
   "source": [
    "##### import mysql.connector\n",
    "def signup(data):\n",
    "    try:\n",
    "        con=mysql.connector.connect(host='localhost',user='root',password='password',database='DCEdata')\n",
    "        cur=con.cursor()\n",
    "        cur.execute(f'select*from student_record where roll={data[0]}')\n",
    "        if cur.fetchone():\n",
    "            con=close()\n",
    "            return False\n",
    "        myquery=('insert into student_record(roll,name,password,branch,admission_year,percentage_10th,percentage_12th) values(%s,%s,%s,%s,%s,%s,%s);')\n",
    "        cur.execute(myquery,data)\n",
    "        con.commit()\n",
    "        con.close()\n",
    "        return True\n",
    "        \n",
    "    except Exception as e:\n",
    "        print(e)\n",
    "def signin(data):\n",
    "     try:\n",
    "        con=mysql.connector.connect(host='localhost',user='root',password='password',database='DCEdata')\n",
    "        cur=con.cursor()\n",
    "        cur.execute(f'select*from student_record where roll={data[0]}')\n",
    "        result=cur.fetchone()\n",
    "        if result!=None and result[0]==data[0] and result[2]==data[1]:\n",
    "            con=close()\n",
    "            return False\n",
    "        else:\n",
    "            con.close()\n",
    "            return True\n",
    "     except Exception as e:\n",
    "        print(e)\n",
    "def search(roll):\n",
    "    try:\n",
    "        con=mysql.connector.connect(host='localhost',user='root',password='password',database='DCEdata')\n",
    "        cur=con.cursor()\n",
    "        cur.execute(f'select*from student_record where roll={roll}')\n",
    "        result=cur.fetchone()\n",
    "        if result:\n",
    "            con.close()\n",
    "            return result\n",
    "        else:\n",
    "            con.close()\n",
    "            return ()\n",
    "    except Exception as e:\n",
    "        print(e)\n",
    "def displayall():\n",
    "    try:\n",
    "        con=mysql.connector.connect(host='localhost',user='root',password='password',database='DCEdata')\n",
    "        cur=con.cursor()\n",
    "        cur.execute(f'select*from student_record')\n",
    "        return cur.fetchall()\n",
    "    except Exception as e:\n",
    "        print(e)\n",
    "    \n",
    "    \n",
    "print(\"*\"*20 +  \"Welcome to my App\"+\"*\"*20)\n",
    "while True:\n",
    "    print(\"1.Signin\\n2.Signup\\n3.Search\\n4.DisplayAll\\n5.Exit\")\n",
    "    ch=int(input(\"enter your choice\"))\n",
    "    if ch==1:\n",
    "        roll=int(input(\"enter your roll number\"))\n",
    "        password=input(\"enter your password\")\n",
    "        if signin((roll,password)):\n",
    "            print(\"you are successfully login\")\n",
    "        else:\n",
    "            print(\"wrong roll or password\")\n",
    "            \n",
    "    elif ch==2:\n",
    "        roll=int(input(\"enter your rollno\"))\n",
    "        name=input(\"enter your name\")\n",
    "        password=input(\"enter your password\")\n",
    "        branch=input(\"enter your branch\")\n",
    "        admission_year=input(\"enter your admisison year\")\n",
    "        percentage_10th=int(input(\"enter 10th percentage\"))\n",
    "        percentage_12th=int(input(\"enter 12th percentage\"))\n",
    "        if signup((roll,name,password,branch,admission_year,percentage_10th,percentage_12th)):\n",
    "            print(\"Student registered\")\n",
    "        else:\n",
    "            print(\"student already exists\")\n",
    "    elif ch==3:\n",
    "        roll=int(input(\"enter roll number to search\"))\n",
    "        info=search(roll)\n",
    "        print(info)\n",
    "    elif ch==4:\n",
    "        allrecord=displayall()\n",
    "        print(\"*\"*20+ \"ALL RECORDS\" + \"*\"*20)\n",
    "        for record in allrecord:\n",
    "            print(f\"{record[0]}\\t{record[1]}\\t{record[3]}\\t{record[4]}\")\n",
    "        print(\"*\"*20+ \"END\" + \"*\"*20)\n",
    "    elif ch==5:\n",
    "        break\n",
    "    else:\n",
    "        print(\"wrong choice\")"
   ]
  },
  {
   "cell_type": "code",
   "execution_count": null,
   "id": "b6beb404-925f-4856-8614-20dfbb5c9147",
   "metadata": {},
   "outputs": [],
   "source": []
  }
 ],
 "metadata": {
  "kernelspec": {
   "display_name": "Python 3 (ipykernel)",
   "language": "python",
   "name": "python3"
  },
  "language_info": {
   "codemirror_mode": {
    "name": "ipython",
    "version": 3
   },
   "file_extension": ".py",
   "mimetype": "text/x-python",
   "name": "python",
   "nbconvert_exporter": "python",
   "pygments_lexer": "ipython3",
   "version": "3.13.2"
  }
 },
 "nbformat": 4,
 "nbformat_minor": 5
}
